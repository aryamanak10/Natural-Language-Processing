{
  "nbformat": 4,
  "nbformat_minor": 0,
  "metadata": {
    "kernelspec": {
      "display_name": "Python 3.7.7 64-bit ('ml': conda)",
      "language": "python",
      "name": "python37764bitmlconda2251f66c7f5b4868855faa3c11e27e27"
    },
    "language_info": {
      "codemirror_mode": {
        "name": "ipython",
        "version": 3
      },
      "file_extension": ".py",
      "mimetype": "text/x-python",
      "name": "python",
      "nbconvert_exporter": "python",
      "pygments_lexer": "ipython3",
      "version": "3.7.7"
    },
    "colab": {
      "name": "Word2Vec - NLP.ipynb",
      "provenance": []
    }
  },
  "cells": [
    {
      "cell_type": "markdown",
      "metadata": {
        "id": "OHdWqEDk2cjn",
        "colab_type": "text"
      },
      "source": [
        "## Word2Vec - NLP\n",
        "\n",
        "#### Problems with BagOfWords and TF-IDF\n",
        "\n",
        "1. Both BOW and TF-IDF approach, **semantic information is not stored**. TF-IDF gives importance to **uncommon words**.\n",
        "\n",
        "2. There is definitely chance of **over-fitting**.\n",
        "\n",
        "#### Solution to this Problem - ***WORD2VEC***\n",
        "\n",
        "1. In this specific model, each word is basically represented as a vector of 32 or more dimension instead of a single number.\n",
        "\n",
        "2. Here the semantic information and relation between different words is also preserved."
      ]
    },
    {
      "cell_type": "markdown",
      "metadata": {
        "id": "JZPnDF2l2cjo",
        "colab_type": "text"
      },
      "source": [
        "![Word2Vec.png](attachment:Word2Vec.png)"
      ]
    },
    {
      "cell_type": "markdown",
      "metadata": {
        "id": "6NM2RWlL2cjp",
        "colab_type": "text"
      },
      "source": [
        "* Here we see that man and woman are related in the same way as the king and the queen. So we have captured the semantic information."
      ]
    },
    {
      "cell_type": "markdown",
      "metadata": {
        "id": "xG-7dN5n2cjp",
        "colab_type": "text"
      },
      "source": [
        "![Word2Vec2.png](attachment:Word2Vec2.png)"
      ]
    },
    {
      "cell_type": "markdown",
      "metadata": {
        "id": "cfmooFGe2cjq",
        "colab_type": "text"
      },
      "source": [
        "### Steps to Create Word2Vec\n",
        "\n",
        "1. Tokenization of the Sentences\n",
        "2. Create Histograms\n",
        "3. Take Most Frequent Words\n",
        "4. Create a Matrix with all the unique words. It also represents the occurance relation between the words."
      ]
    },
    {
      "cell_type": "code",
      "metadata": {
        "id": "IZJlmFLe2cjr",
        "colab_type": "code",
        "colab": {}
      },
      "source": [
        "import nltk\n",
        "import re\n",
        "\n",
        "from gensim.models import Word2Vec\n",
        "from nltk.corpus import stopwords"
      ],
      "execution_count": null,
      "outputs": []
    },
    {
      "cell_type": "code",
      "metadata": {
        "id": "ZMSP2hMT2cjv",
        "colab_type": "code",
        "colab": {}
      },
      "source": [
        "paragraph = \"\"\"I have three visions for India. In 3000 years of our history, people from all over \n",
        "               the world have come and invaded us, captured our lands, conquered our minds. \n",
        "               From Alexander onwards, the Greeks, the Turks, the Moguls, the Portuguese, the British,\n",
        "               the French, the Dutch, all of them came and looted us, took over what was ours. \n",
        "               Yet we have not done this to any other nation. We have not conquered anyone. \n",
        "               We have not grabbed their land, their culture, \n",
        "               their history and tried to enforce our way of life on them. \n",
        "               Why? Because we respect the freedom of others.That is why my \n",
        "               first vision is that of freedom. I believe that India got its first vision of \n",
        "               this in 1857, when we started the War of Independence. It is this freedom that\n",
        "               we must protect and nurture and build on. If we are not free, no one will respect us.\n",
        "               My second vision for India’s development. For fifty years we have been a developing nation.\n",
        "               It is time we see ourselves as a developed nation. We are among the top 5 nations of the world\n",
        "               in terms of GDP. We have a 10 percent growth rate in most areas. Our poverty levels are falling.\n",
        "               Our achievements are being globally recognised today. Yet we lack the self-confidence to\n",
        "               see ourselves as a developed nation, self-reliant and self-assured. Isn’t this incorrect?\n",
        "               I have a third vision. India must stand up to the world. Because I believe that unless India \n",
        "               stands up to the world, no one will respect us. Only strength respects strength. We must be \n",
        "               strong not only as a military power but also as an economic power. Both must go hand-in-hand. \n",
        "               My good fortune was to have worked with three great minds. Dr. Vikram Sarabhai of the Dept. of \n",
        "               space, Professor Satish Dhawan, who succeeded him and Dr. Brahm Prakash, father of nuclear material.\n",
        "               I was lucky to have worked with all three of them closely and consider this the great opportunity of my life. \n",
        "               I see four milestones in my career\"\"\""
      ],
      "execution_count": null,
      "outputs": []
    },
    {
      "cell_type": "markdown",
      "metadata": {
        "id": "upLo2HFV2cjz",
        "colab_type": "text"
      },
      "source": [
        "### Preprocessing the data"
      ]
    },
    {
      "cell_type": "code",
      "metadata": {
        "id": "hE7X3exc2cjz",
        "colab_type": "code",
        "colab": {}
      },
      "source": [
        "# Removing any kind of numbers\n",
        "text = re.sub(r'\\[[0-9]*\\]',' ',paragraph)\n",
        "\n",
        "# Removing any kind of spaces in the paragraphs\n",
        "text = re.sub(r'\\s+',' ',text)\n",
        "\n",
        "# Making the text lower so that the Capital Word and the Smaller Word are considered as the same word.\n",
        "text = text.lower()\n",
        "\n",
        "text = re.sub(r'\\d',' ',text)\n",
        "text = re.sub(r'\\s+',' ',text)"
      ],
      "execution_count": null,
      "outputs": []
    },
    {
      "cell_type": "markdown",
      "metadata": {
        "id": "aoZHqmgN2cj3",
        "colab_type": "text"
      },
      "source": [
        "### Preparing the dataset"
      ]
    },
    {
      "cell_type": "code",
      "metadata": {
        "id": "exs7B3Dp2cj3",
        "colab_type": "code",
        "colab": {}
      },
      "source": [
        "sentences = nltk.sent_tokenize(text)\n",
        "\n",
        "sentences = [nltk.word_tokenize(sentence) for sentence in sentences]"
      ],
      "execution_count": null,
      "outputs": []
    },
    {
      "cell_type": "markdown",
      "metadata": {
        "id": "xoD2KA7Q2cj8",
        "colab_type": "text"
      },
      "source": [
        "### Removing the stopwords"
      ]
    },
    {
      "cell_type": "code",
      "metadata": {
        "id": "g9HdVy-c2cj8",
        "colab_type": "code",
        "colab": {}
      },
      "source": [
        "for i in range(len(sentences)):\n",
        "    sentences[i] = [word for word in sentences[i] if word not in stopwords.words('english')]"
      ],
      "execution_count": null,
      "outputs": []
    },
    {
      "cell_type": "code",
      "metadata": {
        "id": "9dQNKHHn2ckA",
        "colab_type": "code",
        "colab": {},
        "outputId": "0dd13554-b4f6-4e64-da8b-1e545010a64f"
      },
      "source": [
        "type(sentences)"
      ],
      "execution_count": null,
      "outputs": [
        {
          "output_type": "execute_result",
          "data": {
            "text/plain": [
              "list"
            ]
          },
          "metadata": {
            "tags": []
          },
          "execution_count": 6
        }
      ]
    },
    {
      "cell_type": "code",
      "metadata": {
        "id": "7R6Y4JRm2ckF",
        "colab_type": "code",
        "colab": {},
        "outputId": "d89c6d10-9660-4722-ea41-c4ad7b987efa"
      },
      "source": [
        "sentences[1]"
      ],
      "execution_count": null,
      "outputs": [
        {
          "output_type": "execute_result",
          "data": {
            "text/plain": [
              "['years',\n",
              " 'history',\n",
              " ',',\n",
              " 'people',\n",
              " 'world',\n",
              " 'come',\n",
              " 'invaded',\n",
              " 'us',\n",
              " ',',\n",
              " 'captured',\n",
              " 'lands',\n",
              " ',',\n",
              " 'conquered',\n",
              " 'minds',\n",
              " '.']"
            ]
          },
          "metadata": {
            "tags": []
          },
          "execution_count": 7
        }
      ]
    },
    {
      "cell_type": "markdown",
      "metadata": {
        "id": "nCqInNN92ckI",
        "colab_type": "text"
      },
      "source": [
        "### Training the Word2Vec model"
      ]
    },
    {
      "cell_type": "code",
      "metadata": {
        "id": "DQ6x7jls2ckJ",
        "colab_type": "code",
        "colab": {}
      },
      "source": [
        "# min_count says that if the word is present less than 1 time, then skip that word. The word should be present\n",
        "# atleast 1 once.\n",
        "model = Word2Vec(sentences, min_count=1)"
      ],
      "execution_count": null,
      "outputs": []
    },
    {
      "cell_type": "markdown",
      "metadata": {
        "id": "PAAPjUOr2ckL",
        "colab_type": "text"
      },
      "source": [
        "### Finding the Vocabularies of the Model"
      ]
    },
    {
      "cell_type": "code",
      "metadata": {
        "id": "8BwrwVbN2ckM",
        "colab_type": "code",
        "colab": {}
      },
      "source": [
        "words = model.wv.vocab"
      ],
      "execution_count": null,
      "outputs": []
    },
    {
      "cell_type": "code",
      "metadata": {
        "id": "Ddxzbdw12ckP",
        "colab_type": "code",
        "colab": {},
        "outputId": "8fd61ce6-5b31-4c92-fb65-a7255011d897"
      },
      "source": [
        "type(words)"
      ],
      "execution_count": null,
      "outputs": [
        {
          "output_type": "execute_result",
          "data": {
            "text/plain": [
              "dict"
            ]
          },
          "metadata": {
            "tags": []
          },
          "execution_count": 11
        }
      ]
    },
    {
      "cell_type": "code",
      "metadata": {
        "collapsed": true,
        "id": "5JDayqNr2ckT",
        "colab_type": "code",
        "colab": {},
        "outputId": "e04955a7-594f-4adc-83dc-32d61dc493c2"
      },
      "source": [
        "words"
      ],
      "execution_count": null,
      "outputs": [
        {
          "output_type": "execute_result",
          "data": {
            "text/plain": [
              "{'three': <gensim.models.keyedvectors.Vocab at 0x7f0ada616f90>,\n",
              " 'visions': <gensim.models.keyedvectors.Vocab at 0x7f0ada6165d0>,\n",
              " 'india': <gensim.models.keyedvectors.Vocab at 0x7f0ada616550>,\n",
              " '.': <gensim.models.keyedvectors.Vocab at 0x7f0ada616750>,\n",
              " 'years': <gensim.models.keyedvectors.Vocab at 0x7f0ada616d50>,\n",
              " 'history': <gensim.models.keyedvectors.Vocab at 0x7f0ada616bd0>,\n",
              " ',': <gensim.models.keyedvectors.Vocab at 0x7f0ada616e50>,\n",
              " 'people': <gensim.models.keyedvectors.Vocab at 0x7f0ada616b90>,\n",
              " 'world': <gensim.models.keyedvectors.Vocab at 0x7f0ada6167d0>,\n",
              " 'come': <gensim.models.keyedvectors.Vocab at 0x7f0ada616e90>,\n",
              " 'invaded': <gensim.models.keyedvectors.Vocab at 0x7f0ada616e10>,\n",
              " 'us': <gensim.models.keyedvectors.Vocab at 0x7f0ada616a90>,\n",
              " 'captured': <gensim.models.keyedvectors.Vocab at 0x7f0ada616cd0>,\n",
              " 'lands': <gensim.models.keyedvectors.Vocab at 0x7f0ada616a50>,\n",
              " 'conquered': <gensim.models.keyedvectors.Vocab at 0x7f0ada616c90>,\n",
              " 'minds': <gensim.models.keyedvectors.Vocab at 0x7f0ada6169d0>,\n",
              " 'alexander': <gensim.models.keyedvectors.Vocab at 0x7f0ada616b50>,\n",
              " 'onwards': <gensim.models.keyedvectors.Vocab at 0x7f0ada616850>,\n",
              " 'greeks': <gensim.models.keyedvectors.Vocab at 0x7f0ada616b10>,\n",
              " 'turks': <gensim.models.keyedvectors.Vocab at 0x7f0ada616690>,\n",
              " 'moguls': <gensim.models.keyedvectors.Vocab at 0x7f0ada616a10>,\n",
              " 'portuguese': <gensim.models.keyedvectors.Vocab at 0x7f0ada616790>,\n",
              " 'british': <gensim.models.keyedvectors.Vocab at 0x7f0ada61c090>,\n",
              " 'french': <gensim.models.keyedvectors.Vocab at 0x7f0ada61c050>,\n",
              " 'dutch': <gensim.models.keyedvectors.Vocab at 0x7f0ada61c110>,\n",
              " 'came': <gensim.models.keyedvectors.Vocab at 0x7f0ada61c0d0>,\n",
              " 'looted': <gensim.models.keyedvectors.Vocab at 0x7f0ada61c190>,\n",
              " 'took': <gensim.models.keyedvectors.Vocab at 0x7f0ada61c150>,\n",
              " 'yet': <gensim.models.keyedvectors.Vocab at 0x7f0ada61c210>,\n",
              " 'done': <gensim.models.keyedvectors.Vocab at 0x7f0ada61c1d0>,\n",
              " 'nation': <gensim.models.keyedvectors.Vocab at 0x7f0ada61c290>,\n",
              " 'anyone': <gensim.models.keyedvectors.Vocab at 0x7f0ada61c250>,\n",
              " 'grabbed': <gensim.models.keyedvectors.Vocab at 0x7f0ada61c310>,\n",
              " 'land': <gensim.models.keyedvectors.Vocab at 0x7f0ada61c2d0>,\n",
              " 'culture': <gensim.models.keyedvectors.Vocab at 0x7f0ada61c390>,\n",
              " 'tried': <gensim.models.keyedvectors.Vocab at 0x7f0ada61c350>,\n",
              " 'enforce': <gensim.models.keyedvectors.Vocab at 0x7f0ada61c410>,\n",
              " 'way': <gensim.models.keyedvectors.Vocab at 0x7f0ada61c3d0>,\n",
              " 'life': <gensim.models.keyedvectors.Vocab at 0x7f0ada61c490>,\n",
              " '?': <gensim.models.keyedvectors.Vocab at 0x7f0ada61c450>,\n",
              " 'respect': <gensim.models.keyedvectors.Vocab at 0x7f0ada61c510>,\n",
              " 'freedom': <gensim.models.keyedvectors.Vocab at 0x7f0ada61c4d0>,\n",
              " 'others.that': <gensim.models.keyedvectors.Vocab at 0x7f0ad97f9210>,\n",
              " 'first': <gensim.models.keyedvectors.Vocab at 0x7f0ada643050>,\n",
              " 'vision': <gensim.models.keyedvectors.Vocab at 0x7f0ada643110>,\n",
              " 'believe': <gensim.models.keyedvectors.Vocab at 0x7f0ada6430d0>,\n",
              " 'got': <gensim.models.keyedvectors.Vocab at 0x7f0ada643290>,\n",
              " 'started': <gensim.models.keyedvectors.Vocab at 0x7f0ada643390>,\n",
              " 'war': <gensim.models.keyedvectors.Vocab at 0x7f0ada643710>,\n",
              " 'independence': <gensim.models.keyedvectors.Vocab at 0x7f0ada643750>,\n",
              " 'must': <gensim.models.keyedvectors.Vocab at 0x7f0ada6437d0>,\n",
              " 'protect': <gensim.models.keyedvectors.Vocab at 0x7f0ada643810>,\n",
              " 'nurture': <gensim.models.keyedvectors.Vocab at 0x7f0ada643dd0>,\n",
              " 'build': <gensim.models.keyedvectors.Vocab at 0x7f0ada643d90>,\n",
              " 'free': <gensim.models.keyedvectors.Vocab at 0x7f0ada0e1050>,\n",
              " 'one': <gensim.models.keyedvectors.Vocab at 0x7f0ada0e1910>,\n",
              " 'second': <gensim.models.keyedvectors.Vocab at 0x7f0ada0e1e50>,\n",
              " '’': <gensim.models.keyedvectors.Vocab at 0x7f0ada0e1ed0>,\n",
              " 'development': <gensim.models.keyedvectors.Vocab at 0x7f0ada2a30d0>,\n",
              " 'fifty': <gensim.models.keyedvectors.Vocab at 0x7f0ada2a3110>,\n",
              " 'developing': <gensim.models.keyedvectors.Vocab at 0x7f0ada2a3250>,\n",
              " 'time': <gensim.models.keyedvectors.Vocab at 0x7f0ada2a35d0>,\n",
              " 'see': <gensim.models.keyedvectors.Vocab at 0x7f0ada2a3a90>,\n",
              " 'developed': <gensim.models.keyedvectors.Vocab at 0x7f0ada2a3d10>,\n",
              " 'among': <gensim.models.keyedvectors.Vocab at 0x7f0ada2a3e10>,\n",
              " 'top': <gensim.models.keyedvectors.Vocab at 0x7f0ada2a3d50>,\n",
              " 'nations': <gensim.models.keyedvectors.Vocab at 0x7f0ada2c27d0>,\n",
              " 'terms': <gensim.models.keyedvectors.Vocab at 0x7f0ada2c2b90>,\n",
              " 'gdp': <gensim.models.keyedvectors.Vocab at 0x7f0ada2c2c10>,\n",
              " 'percent': <gensim.models.keyedvectors.Vocab at 0x7f0ada2c2c90>,\n",
              " 'growth': <gensim.models.keyedvectors.Vocab at 0x7f0ada2c2cd0>,\n",
              " 'rate': <gensim.models.keyedvectors.Vocab at 0x7f0ada2d1290>,\n",
              " 'areas': <gensim.models.keyedvectors.Vocab at 0x7f0ada2d1310>,\n",
              " 'poverty': <gensim.models.keyedvectors.Vocab at 0x7f0ada2d1610>,\n",
              " 'levels': <gensim.models.keyedvectors.Vocab at 0x7f0ada2d1590>,\n",
              " 'falling': <gensim.models.keyedvectors.Vocab at 0x7f0ada2d1a90>,\n",
              " 'achievements': <gensim.models.keyedvectors.Vocab at 0x7f0ada2d1d90>,\n",
              " 'globally': <gensim.models.keyedvectors.Vocab at 0x7f0ada2d1e50>,\n",
              " 'recognised': <gensim.models.keyedvectors.Vocab at 0x7f0ada19e3d0>,\n",
              " 'today': <gensim.models.keyedvectors.Vocab at 0x7f0ada19e5d0>,\n",
              " 'lack': <gensim.models.keyedvectors.Vocab at 0x7f0ada19e910>,\n",
              " 'self-confidence': <gensim.models.keyedvectors.Vocab at 0x7f0ada19e750>,\n",
              " 'self-reliant': <gensim.models.keyedvectors.Vocab at 0x7f0ada19e9d0>,\n",
              " 'self-assured': <gensim.models.keyedvectors.Vocab at 0x7f0ada19ea10>,\n",
              " 'incorrect': <gensim.models.keyedvectors.Vocab at 0x7f0ada19ebd0>,\n",
              " 'third': <gensim.models.keyedvectors.Vocab at 0x7f0ada1b0250>,\n",
              " 'stand': <gensim.models.keyedvectors.Vocab at 0x7f0ada1b04d0>,\n",
              " 'unless': <gensim.models.keyedvectors.Vocab at 0x7f0ada1b0550>,\n",
              " 'stands': <gensim.models.keyedvectors.Vocab at 0x7f0ada1b0710>,\n",
              " 'strength': <gensim.models.keyedvectors.Vocab at 0x7f0ada1b0950>,\n",
              " 'respects': <gensim.models.keyedvectors.Vocab at 0x7f0ada1b0750>,\n",
              " 'strong': <gensim.models.keyedvectors.Vocab at 0x7f0ada1b09d0>,\n",
              " 'military': <gensim.models.keyedvectors.Vocab at 0x7f0ada1b0e90>,\n",
              " 'power': <gensim.models.keyedvectors.Vocab at 0x7f0ada1b0bd0>,\n",
              " 'also': <gensim.models.keyedvectors.Vocab at 0x7f0ada1b0e10>,\n",
              " 'economic': <gensim.models.keyedvectors.Vocab at 0x7f0ada1b0fd0>,\n",
              " 'go': <gensim.models.keyedvectors.Vocab at 0x7f0ada1ba190>,\n",
              " 'hand-in-hand': <gensim.models.keyedvectors.Vocab at 0x7f0ada1ba1d0>,\n",
              " 'good': <gensim.models.keyedvectors.Vocab at 0x7f0ada1ba090>,\n",
              " 'fortune': <gensim.models.keyedvectors.Vocab at 0x7f0ada1ba410>,\n",
              " 'worked': <gensim.models.keyedvectors.Vocab at 0x7f0ada1baad0>,\n",
              " 'great': <gensim.models.keyedvectors.Vocab at 0x7f0ada1ba910>,\n",
              " 'dr.': <gensim.models.keyedvectors.Vocab at 0x7f0ada1ba950>,\n",
              " 'vikram': <gensim.models.keyedvectors.Vocab at 0x7f0ada1baa10>,\n",
              " 'sarabhai': <gensim.models.keyedvectors.Vocab at 0x7f0ada1bab90>,\n",
              " 'dept': <gensim.models.keyedvectors.Vocab at 0x7f0ada1bac10>,\n",
              " 'space': <gensim.models.keyedvectors.Vocab at 0x7f0ada1baa90>,\n",
              " 'professor': <gensim.models.keyedvectors.Vocab at 0x7f0ada1baed0>,\n",
              " 'satish': <gensim.models.keyedvectors.Vocab at 0x7f0ada1badd0>,\n",
              " 'dhawan': <gensim.models.keyedvectors.Vocab at 0x7f0ada1c5c50>,\n",
              " 'succeeded': <gensim.models.keyedvectors.Vocab at 0x7f0ada3600d0>,\n",
              " 'brahm': <gensim.models.keyedvectors.Vocab at 0x7f0ada360310>,\n",
              " 'prakash': <gensim.models.keyedvectors.Vocab at 0x7f0ada3605d0>,\n",
              " 'father': <gensim.models.keyedvectors.Vocab at 0x7f0ada360510>,\n",
              " 'nuclear': <gensim.models.keyedvectors.Vocab at 0x7f0ada360690>,\n",
              " 'material': <gensim.models.keyedvectors.Vocab at 0x7f0ada360590>,\n",
              " 'lucky': <gensim.models.keyedvectors.Vocab at 0x7f0ada3606d0>,\n",
              " 'closely': <gensim.models.keyedvectors.Vocab at 0x7f0ada360610>,\n",
              " 'consider': <gensim.models.keyedvectors.Vocab at 0x7f0ada360a10>,\n",
              " 'opportunity': <gensim.models.keyedvectors.Vocab at 0x7f0ada368350>,\n",
              " 'four': <gensim.models.keyedvectors.Vocab at 0x7f0ada368390>,\n",
              " 'milestones': <gensim.models.keyedvectors.Vocab at 0x7f0ada368890>,\n",
              " 'career': <gensim.models.keyedvectors.Vocab at 0x7f0ada368910>}"
            ]
          },
          "metadata": {
            "tags": []
          },
          "execution_count": 12
        }
      ]
    },
    {
      "cell_type": "markdown",
      "metadata": {
        "id": "9HZ_wZy_2ckW",
        "colab_type": "text"
      },
      "source": [
        "### Finding Word Vectors"
      ]
    },
    {
      "cell_type": "code",
      "metadata": {
        "id": "Pot1QF-B2ckX",
        "colab_type": "code",
        "colab": {}
      },
      "source": [
        "vector = model.wv['war']"
      ],
      "execution_count": null,
      "outputs": []
    },
    {
      "cell_type": "code",
      "metadata": {
        "id": "z-WK8w1r2cka",
        "colab_type": "code",
        "colab": {},
        "outputId": "45e1c51e-24c4-4dec-b285-4907d3658f7b"
      },
      "source": [
        "# This is the vector of the word 'war'. Has 100 dimensions.\n",
        "vector"
      ],
      "execution_count": null,
      "outputs": [
        {
          "output_type": "execute_result",
          "data": {
            "text/plain": [
              "array([ 0.00334849, -0.00355092,  0.00213049,  0.00164915, -0.00061787,\n",
              "        0.00462226, -0.00312125,  0.00209465, -0.00207171,  0.00326673,\n",
              "        0.00225971,  0.00306942, -0.00292732, -0.00038004,  0.00463964,\n",
              "        0.00054554,  0.00232844, -0.00437583,  0.00180414,  0.00327558,\n",
              "       -0.00186407,  0.00204484,  0.00465281,  0.00184994,  0.0027868 ,\n",
              "       -0.00427261, -0.00364142, -0.00193394, -0.00384738, -0.00295669,\n",
              "       -0.00390901,  0.00439   ,  0.0043123 , -0.00340328, -0.003188  ,\n",
              "        0.00141727, -0.00227224, -0.00324858, -0.0041591 ,  0.00390895,\n",
              "        0.0011417 , -0.00344482, -0.0009482 ,  0.00476479,  0.00050464,\n",
              "        0.00328358, -0.00196138,  0.0040953 ,  0.00256049,  0.00077556,\n",
              "       -0.00262221, -0.00327519,  0.00205911,  0.00423056,  0.00155203,\n",
              "       -0.00363013, -0.00341346,  0.00023771,  0.00039783, -0.00329133,\n",
              "        0.00438991, -0.00253694, -0.0033959 ,  0.00439678, -0.00295564,\n",
              "       -0.00286965, -0.0010752 , -0.00110247,  0.0009571 ,  0.00122155,\n",
              "       -0.00438989, -0.00185201, -0.0029914 , -0.00119402,  0.00057017,\n",
              "        0.00389952, -0.00274059, -0.00359996, -0.00350556, -0.00399256,\n",
              "        0.00233085, -0.00036392,  0.00168521, -0.0009493 ,  0.00153867,\n",
              "       -0.00085863, -0.00332266, -0.00349065, -0.00342265,  0.00474571,\n",
              "       -0.00323945,  0.0031683 , -0.00077011, -0.00411869, -0.00498193,\n",
              "       -0.00213887, -0.00266149, -0.00301017,  0.00438397,  0.00138722],\n",
              "      dtype=float32)"
            ]
          },
          "metadata": {
            "tags": []
          },
          "execution_count": 14
        }
      ]
    },
    {
      "cell_type": "markdown",
      "metadata": {
        "id": "_A5m_A2i2ckd",
        "colab_type": "text"
      },
      "source": [
        "### Most similar words"
      ]
    },
    {
      "cell_type": "code",
      "metadata": {
        "id": "6FPbPKiq2ckf",
        "colab_type": "code",
        "colab": {}
      },
      "source": [
        "similar = model.wv.most_similar('war')"
      ],
      "execution_count": null,
      "outputs": []
    },
    {
      "cell_type": "code",
      "metadata": {
        "id": "JDFGcCZq2ckh",
        "colab_type": "code",
        "colab": {},
        "outputId": "2e6606e1-dc58-4449-96da-2d34ce3a20ba"
      },
      "source": [
        "type(similar)"
      ],
      "execution_count": null,
      "outputs": [
        {
          "output_type": "execute_result",
          "data": {
            "text/plain": [
              "list"
            ]
          },
          "metadata": {
            "tags": []
          },
          "execution_count": 16
        }
      ]
    },
    {
      "cell_type": "code",
      "metadata": {
        "id": "RzNtHCS72ckk",
        "colab_type": "code",
        "colab": {},
        "outputId": "e13ad8dc-cc44-4e18-c7fb-a0b848cf1ff7"
      },
      "source": [
        "similar"
      ],
      "execution_count": null,
      "outputs": [
        {
          "output_type": "execute_result",
          "data": {
            "text/plain": [
              "[('one', 0.2875688076019287),\n",
              " ('four', 0.27881067991256714),\n",
              " ('incorrect', 0.26683831214904785),\n",
              " ('portuguese', 0.23758408427238464),\n",
              " ('fortune', 0.22181394696235657),\n",
              " ('milestones', 0.17077851295471191),\n",
              " ('time', 0.1668502241373062),\n",
              " ('areas', 0.1570495218038559),\n",
              " ('culture', 0.14697352051734924),\n",
              " ('go', 0.1406632661819458)]"
            ]
          },
          "metadata": {
            "tags": []
          },
          "execution_count": 17
        }
      ]
    },
    {
      "cell_type": "markdown",
      "metadata": {
        "id": "U_HLDOIv2ckp",
        "colab_type": "text"
      },
      "source": [
        "**Higher the positive number more they contribute to being similar to the word**"
      ]
    }
  ]
}